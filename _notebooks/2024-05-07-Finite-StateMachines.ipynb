{
 "cells": [
  {
   "cell_type": "code",
   "execution_count": 1,
   "metadata": {},
   "outputs": [
    {
     "name": "stdout",
     "output_type": "stream",
     "text": [
      "Sewing machine turned on. Ready to sew.\n",
      "Foot pedal pressed. Sewing started.\n",
      "Already sewing.\n",
      "Foot pedal released. Sewing paused.\n",
      "Not sewing.\n",
      "Sewing machine turned off.\n",
      "Already off.\n"
     ]
    }
   ],
   "source": [
    "class SewingMachine:\n",
    "    def __init__(self):\n",
    "        self.state = 'Off'\n",
    "\n",
    "    def turn_on(self):\n",
    "        if self.state == 'Off':\n",
    "            self.state = 'Ready'\n",
    "            print(\"Sewing machine turned on. Ready to sew.\")\n",
    "\n",
    "    def press_pedal(self):\n",
    "        if self.state == 'Ready':\n",
    "            self.state = 'Sewing'\n",
    "            print(\"Foot pedal pressed. Sewing started.\")\n",
    "        elif self.state == 'Sewing':\n",
    "            print(\"Already sewing.\")\n",
    "\n",
    "    def release_pedal(self):\n",
    "        if self.state == 'Sewing':\n",
    "            self.state = 'Ready'\n",
    "            print(\"Foot pedal released. Sewing paused.\")\n",
    "        elif self.state == 'Ready':\n",
    "            print(\"Not sewing.\")\n",
    "\n",
    "    def turn_off(self):\n",
    "        if self.state != 'Off':\n",
    "            self.state = 'Off'\n",
    "            print(\"Sewing machine turned off.\")\n",
    "        else:\n",
    "            print(\"Already off.\")\n",
    "\n",
    "\n",
    "# Example usage\n",
    "sewing_machine = SewingMachine()\n",
    "sewing_machine.press_pedal()  # Not sewing\n",
    "sewing_machine.turn_on()      # Sewing machine turned on. Ready to sew.\n",
    "sewing_machine.turn_on()      # Already on\n",
    "sewing_machine.press_pedal()  # Foot pedal pressed. Sewing started.\n",
    "sewing_machine.press_pedal()  # Already sewing\n",
    "sewing_machine.release_pedal()  # Foot pedal released. Sewing paused.\n",
    "sewing_machine.release_pedal()  # Not sewing\n",
    "sewing_machine.turn_off()     # Sewing machine turned off.\n",
    "sewing_machine.turn_off()     # Already off\n"
   ]
  }
 ],
 "metadata": {
  "kernelspec": {
   "display_name": "Python 3",
   "language": "python",
   "name": "python3"
  },
  "language_info": {
   "codemirror_mode": {
    "name": "ipython",
    "version": 3
   },
   "file_extension": ".py",
   "mimetype": "text/x-python",
   "name": "python",
   "nbconvert_exporter": "python",
   "pygments_lexer": "ipython3",
   "version": "3.10.12"
  }
 },
 "nbformat": 4,
 "nbformat_minor": 2
}
